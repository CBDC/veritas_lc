{
 "cells": [
  {
   "cell_type": "markdown",
   "metadata": {},
   "source": [
    "# Handling VERITAS spectra\n",
    "\n",
    "After defining a data file format for VERITAS spectra -- https://github.com/chbrandt/veritas/blob/master/data_formatting-v2.5.rst -- we'll now handle its data/metadata to see how it goes.\n",
    "\n",
    "A very fundamental level of any data format is to be able to transform it to (and from) FITS -- without loosing information, clearly -- as FITS is the standard format in Astrophysics."
   ]
  },
  {
   "cell_type": "markdown",
   "metadata": {},
   "source": [
    "## Testing case: Mkn421\n",
    "\n",
    "Seven data files with *spectra* from Mkn421 are available to build those SED plots.\n",
    "The files are in ECSV format as proposed in https://github.com/chbrandt/veritas/blob/master/data_formatting-v2.rst."
   ]
  },
  {
   "cell_type": "code",
   "execution_count": 1,
   "metadata": {
    "collapsed": false
   },
   "outputs": [
    {
     "name": "stdout",
     "output_type": "stream",
     "text": [
      "\u001b[0m\u001b[01;34mdata\u001b[0m/  \u001b[01;34mdocs\u001b[0m/  \u001b[01;34mproc\u001b[0m/  q.rd  README.md\r\n"
     ]
    }
   ],
   "source": [
    "%ls .."
   ]
  },
  {
   "cell_type": "code",
   "execution_count": 2,
   "metadata": {
    "collapsed": false
   },
   "outputs": [
    {
     "name": "stdout",
     "output_type": "stream",
     "text": [
      "proc\n"
     ]
    }
   ],
   "source": [
    "wd = !pwd\n",
    "print wd.p.pop().basename()"
   ]
  },
  {
   "cell_type": "code",
   "execution_count": 3,
   "metadata": {
    "collapsed": true
   },
   "outputs": [],
   "source": [
    "from path import Path\n",
    "data_dir=Path('../data/src')"
   ]
  },
  {
   "cell_type": "code",
   "execution_count": 4,
   "metadata": {
    "collapsed": false
   },
   "outputs": [
    {
     "name": "stdout",
     "output_type": "stream",
     "text": [
      "# %ECSV 0.9\r\n",
      "# ---\r\n",
      "# meta: !!omap\r\n",
      "# - OBJECT: Mrk 421\r\n",
      "#\r\n",
      "# - DESCRIBE:\r\n",
      "#    Spectral points for multiwavelength campaign;\r\n",
      "#    Observations taken between 2008 January 01 and 2008 June 05;\r\n",
      "#    Flux sensitivity 0.8e-10 < flux(E>1TeV) < 1.1e-10\r\n",
      "#\r\n",
      "# - MJD:\r\n",
      "#    START: 54502.46971 # unit=day\r\n",
      "#    END: 54622.18955   # unit=day\r\n",
      "#\r\n",
      "# - ARTICLE:\r\n",
      "#    label: Ap.J. 738, 25 (2011)\r\n",
      "#    url: http://iopscience.iop.org/0004-637X/738/1/25/\r\n",
      "#    arxiv: http://arxiv.org/abs/1106.1210\r\n",
      "#    ads: http://adsabs.harvard.edu/abs/2011ApJ...738...25A\r\n",
      "#\r\n",
      "# - COMMENTS:\r\n",
      "#    Name: Mrk421_2008_highA\r\n",
      "#    Tag: highA\r\n",
      "#    Redshift: 0.031\r\n",
      "#    LiveTime: 1.4  # unit=hour\r\n",
      "#    Significance: 73.0\r\n",
      "#\r\n",
      "# - SED_TYPE: diff_flux_points\r\n",
      "#\r\n",
      "# datatype:\r\n",
      "# - name: e_ref\r\n",
      "#   unit: TeV\r\n",
      "#   datatype: float64\r\n",
      "# - name: dnde\r\n",
      "#   unit: ph / (m2 TeV s)\r\n",
      "#   datatype: float64\r\n",
      "# - name: dnde_errn\r\n",
      "#   unit: ph / (m2 TeV s)\r\n",
      "#   datatype: float64\r\n",
      "# - name: dnde_errp\r\n",
      "#   unit: ph / (m2 TeV s)\r\n",
      "#   datatype: float64\r\n",
      "#\r\n",
      "e_ref dnde       dnde_errn  dnde_errp\r\n",
      "0.275 1.702E-005 3.295E-006 3.295E-006\r\n",
      "0.340 1.289E-005 1.106E-006 1.106E-006\r\n",
      "0.420 8.821E-006 6.072E-007 6.072E-007\r\n",
      "0.519 5.777E-006 3.697E-007 3.697E-007\r\n",
      "0.642 3.509E-006 2.351E-007 2.351E-007\r\n",
      "0.793 2.151E-006 1.525E-007 1.525E-007\r\n",
      "0.980 1.302E-006 1.024E-007 1.024E-007\r\n",
      "1.212 6.273E-007 6.117E-008 6.117E-008\r\n",
      "1.498 3.310E-007 3.853E-008 3.853E-008\r\n",
      "1.851 1.661E-007 2.401E-008 2.401E-008\r\n",
      "2.288 1.124E-007 1.732E-008 1.732E-008\r\n",
      "2.828 6.158E-008 1.138E-008 1.138E-008\r\n",
      "3.496 3.347E-008 7.427E-009 7.427E-009\r\n",
      "4.321 1.160E-008 4.031E-009 4.031E-009\r\n",
      "5.342 5.230E-009 2.371E-009 2.371E-009\r\n"
     ]
    }
   ],
   "source": [
    "filein = data_dir.joinpath('Mkn421_VERITAS_2008_highA.csv')\n",
    "%cat $filein"
   ]
  },
  {
   "cell_type": "markdown",
   "metadata": {},
   "source": [
    "The format -- ECSV -- has been chosen for it is human readable and its metadata availability.\n",
    "The library we have to use is Astropy."
   ]
  },
  {
   "cell_type": "code",
   "execution_count": 5,
   "metadata": {
    "collapsed": false
   },
   "outputs": [
    {
     "data": {
      "text/html": [
       "&lt;Table length=15&gt;\n",
       "<table id=\"table140371602055824\" class=\"table-striped table-bordered table-condensed\">\n",
       "<thead><tr><th>e_ref</th><th>dnde</th><th>dnde_errn</th><th>dnde_errp</th></tr></thead>\n",
       "<thead><tr><th>TeV</th><th>ph / (m2 s TeV)</th><th>ph / (m2 s TeV)</th><th>ph / (m2 s TeV)</th></tr></thead>\n",
       "<thead><tr><th>float64</th><th>float64</th><th>float64</th><th>float64</th></tr></thead>\n",
       "<tr><td>0.275</td><td>1.702e-05</td><td>3.295e-06</td><td>3.295e-06</td></tr>\n",
       "<tr><td>0.34</td><td>1.289e-05</td><td>1.106e-06</td><td>1.106e-06</td></tr>\n",
       "<tr><td>0.42</td><td>8.821e-06</td><td>6.072e-07</td><td>6.072e-07</td></tr>\n",
       "<tr><td>0.519</td><td>5.777e-06</td><td>3.697e-07</td><td>3.697e-07</td></tr>\n",
       "<tr><td>0.642</td><td>3.509e-06</td><td>2.351e-07</td><td>2.351e-07</td></tr>\n",
       "<tr><td>0.793</td><td>2.151e-06</td><td>1.525e-07</td><td>1.525e-07</td></tr>\n",
       "<tr><td>0.98</td><td>1.302e-06</td><td>1.024e-07</td><td>1.024e-07</td></tr>\n",
       "<tr><td>1.212</td><td>6.273e-07</td><td>6.117e-08</td><td>6.117e-08</td></tr>\n",
       "<tr><td>1.498</td><td>3.31e-07</td><td>3.853e-08</td><td>3.853e-08</td></tr>\n",
       "<tr><td>1.851</td><td>1.661e-07</td><td>2.401e-08</td><td>2.401e-08</td></tr>\n",
       "<tr><td>2.288</td><td>1.124e-07</td><td>1.732e-08</td><td>1.732e-08</td></tr>\n",
       "<tr><td>2.828</td><td>6.158e-08</td><td>1.138e-08</td><td>1.138e-08</td></tr>\n",
       "<tr><td>3.496</td><td>3.347e-08</td><td>7.427e-09</td><td>7.427e-09</td></tr>\n",
       "<tr><td>4.321</td><td>1.16e-08</td><td>4.031e-09</td><td>4.031e-09</td></tr>\n",
       "<tr><td>5.342</td><td>5.23e-09</td><td>2.371e-09</td><td>2.371e-09</td></tr>\n",
       "</table>"
      ],
      "text/plain": [
       "<Table length=15>\n",
       " e_ref        dnde         dnde_errn       dnde_errp   \n",
       "  TeV   ph / (m2 s TeV) ph / (m2 s TeV) ph / (m2 s TeV)\n",
       "float64     float64         float64         float64    \n",
       "------- --------------- --------------- ---------------\n",
       "  0.275       1.702e-05       3.295e-06       3.295e-06\n",
       "   0.34       1.289e-05       1.106e-06       1.106e-06\n",
       "   0.42       8.821e-06       6.072e-07       6.072e-07\n",
       "  0.519       5.777e-06       3.697e-07       3.697e-07\n",
       "  0.642       3.509e-06       2.351e-07       2.351e-07\n",
       "  0.793       2.151e-06       1.525e-07       1.525e-07\n",
       "   0.98       1.302e-06       1.024e-07       1.024e-07\n",
       "  1.212       6.273e-07       6.117e-08       6.117e-08\n",
       "  1.498        3.31e-07       3.853e-08       3.853e-08\n",
       "  1.851       1.661e-07       2.401e-08       2.401e-08\n",
       "  2.288       1.124e-07       1.732e-08       1.732e-08\n",
       "  2.828       6.158e-08       1.138e-08       1.138e-08\n",
       "  3.496       3.347e-08       7.427e-09       7.427e-09\n",
       "  4.321        1.16e-08       4.031e-09       4.031e-09\n",
       "  5.342        5.23e-09       2.371e-09       2.371e-09"
      ]
     },
     "execution_count": 5,
     "metadata": {},
     "output_type": "execute_result"
    }
   ],
   "source": [
    "from astropy.table import Table\n",
    "tt = Table.read(filein, format='ascii.ecsv')\n",
    "tt"
   ]
  },
  {
   "cell_type": "code",
   "execution_count": 6,
   "metadata": {
    "collapsed": false
   },
   "outputs": [
    {
     "name": "stdout",
     "output_type": "stream",
     "text": [
      "{\n",
      "    \"OBJECT\": \"Mrk 421\", \n",
      "    \"DESCRIBE\": \"Spectral points for multiwavelength campaign; Observations taken between 2008 January 01 and 2008 June 05; Flux sensitivity 0.8e-10 < flux(E>1TeV) < 1.1e-10\", \n",
      "    \"MJD\": {\n",
      "        \"START\": 54502.46971, \n",
      "        \"END\": 54622.18955\n",
      "    }, \n",
      "    \"ARTICLE\": {\n",
      "        \"url\": \"http://iopscience.iop.org/0004-637X/738/1/25/\", \n",
      "        \"arxiv\": \"http://arxiv.org/abs/1106.1210\", \n",
      "        \"ads\": \"http://adsabs.harvard.edu/abs/2011ApJ...738...25A\", \n",
      "        \"label\": \"Ap.J. 738, 25 (2011)\"\n",
      "    }, \n",
      "    \"COMMENTS\": {\n",
      "        \"LiveTime\": 1.4, \n",
      "        \"Redshift\": 0.031, \n",
      "        \"Tag\": \"highA\", \n",
      "        \"Name\": \"Mrk421_2008_highA\", \n",
      "        \"Significance\": 73.0\n",
      "    }, \n",
      "    \"SED_TYPE\": \"diff_flux_points\"\n",
      "}\n",
      "e_ref       dnde         dnde_errn       dnde_errp   \n",
      " TeV  ph / (m2 s TeV) ph / (m2 s TeV) ph / (m2 s TeV)\n",
      "----- --------------- --------------- ---------------\n",
      "0.275       1.702e-05       3.295e-06       3.295e-06\n",
      " 0.34       1.289e-05       1.106e-06       1.106e-06\n",
      " 0.42       8.821e-06       6.072e-07       6.072e-07\n",
      "0.519       5.777e-06       3.697e-07       3.697e-07\n",
      "0.642       3.509e-06       2.351e-07       2.351e-07\n",
      "0.793       2.151e-06       1.525e-07       1.525e-07\n",
      " 0.98       1.302e-06       1.024e-07       1.024e-07\n",
      "1.212       6.273e-07       6.117e-08       6.117e-08\n",
      "1.498        3.31e-07       3.853e-08       3.853e-08\n",
      "1.851       1.661e-07       2.401e-08       2.401e-08\n",
      "2.288       1.124e-07       1.732e-08       1.732e-08\n",
      "2.828       6.158e-08       1.138e-08       1.138e-08\n",
      "3.496       3.347e-08       7.427e-09       7.427e-09\n",
      "4.321        1.16e-08       4.031e-09       4.031e-09\n",
      "5.342        5.23e-09       2.371e-09       2.371e-09\n"
     ]
    }
   ],
   "source": [
    "def print_table(table):\n",
    "    import json\n",
    "    print json.dumps(table.meta,indent=4)\n",
    "    print table\n",
    "print_table(tt)"
   ]
  },
  {
   "cell_type": "markdown",
   "metadata": {},
   "source": [
    "## Lowering epoch (MJD) information\n",
    "\n",
    "The Epoch when the observations start and finished are given in the header section after the keywords `mjd_start` and `mjd_end`, respectively.\n",
    "Because this information is relevant when analysing the SED (or lightcurve), we want to stretch them into (two) table columns."
   ]
  },
  {
   "cell_type": "code",
   "execution_count": 7,
   "metadata": {
    "collapsed": false
   },
   "outputs": [],
   "source": [
    "def read_header_keyword(table, keyword, kw_sep='_'):\n",
    "    '''\n",
    "    Read value after 'keyword' from table's header\n",
    "    \n",
    "    Input:\n",
    "     - table : ~astropy.table.Table\n",
    "     - keyword : str, list of str\n",
    "         table's header keyword\n",
    "    \n",
    "    Output:\n",
    "     - {kwjoin:(value,unit)) : mapping of joined 'keyword' (if it's a list)\n",
    "                                to the corresponding value and unit.\n",
    "                                If unit is not available, 'None' is returned.\n",
    "    '''\n",
    "    def split_name_unit(keyword):\n",
    "        import re\n",
    "        regex = '\\(.*\\)'\n",
    "        reobj = re.compile(regex)\n",
    "        unit = reobj.search(keyword)\n",
    "        if unit:\n",
    "            unit = re.sub('\\(|\\)','',unit.group())\n",
    "        name = reobj.sub('',keyword)\n",
    "        return (name,unit)\n",
    "    \n",
    "    kw_sep = kw_sep if isinstance(kw_sep,(str,unicode)) else ''\n",
    "    value = None\n",
    "    kwjoin = None\n",
    "    if isinstance(keyword,(str,unicode)):\n",
    "        kw_found = False\n",
    "        for k,v in table.meta.iteritems():\n",
    "            if k.startswith(keyword):\n",
    "                value = v\n",
    "                kwjoin = k\n",
    "                kw_found = True\n",
    "        assert kw_found, 'keyword {} not found in header'.format(keyword)\n",
    "    else:\n",
    "        assert isinstance(keyword,(list,tuple))\n",
    "        header_keys = []\n",
    "        for kw in keyword:\n",
    "            kw_found = False\n",
    "            if value is None:\n",
    "                value = table.meta\n",
    "            for k,v in value.iteritems():\n",
    "                if k.startswith(kw):\n",
    "                    value = v\n",
    "                    header_keys.append(k)\n",
    "                    kw_found = True\n",
    "                    break\n",
    "            assert kw_found, 'keywords {} not found in header'.format(kw)\n",
    "        kwjoin = kw_sep.join(header_keys)\n",
    "    kwjoin,unit = split_name_unit(kwjoin)\n",
    "    return {kwjoin:(value,unit)}\n",
    "\n",
    "def keyword2column(table, keyword, unit=None):\n",
    "    from astropy.table import Column\n",
    "    \n",
    "    kwvalue = read_header_keyword(table,keyword)\n",
    "    \n",
    "    colname,(hfield,unitname) = kwvalue.popitem()\n",
    "    if unit != None:\n",
    "        unitname = unit\n",
    "    col = Column(data = [hfield]*len(table), \n",
    "                 name = colname, \n",
    "                 unit = unitname)\n",
    "    return col\n",
    "\n",
    "def header2table(table, keyword, unit=None):\n",
    "    '''\n",
    "    Add 'keyword' column (from meta/header) to 'table'\n",
    "    \n",
    "    The column created will have the value from \"meta[keyword]\"\n",
    "    (repeated 'len(table)' times) with unit 'unitname' and\n",
    "    dtype 'datatype'\n",
    "    '''\n",
    "    col = keyword2column(table,keyword,unit)\n",
    "    table.add_column(col)\n",
    "\n",
    "def mjd_header2table(table):\n",
    "    '''\n",
    "    Create columns 'epoch_*' from table's header keywords 'mjd_*'\n",
    "    \n",
    "    mjd_start ---> epoch_ini\n",
    "    mjd_end   ---> epoch_end\n",
    "    '''\n",
    "    header2table(table, ('MJD','START'), unit='day')\n",
    "    header2table(table, ('MJD','END'), unit='day')\n",
    "    table['epoch_ini'] = table['MJD_START']\n",
    "    table['epoch_end'] = table['MJD_END']\n",
    "    del table['MJD_START'],table['MJD_END']\n",
    " \n",
    "## test:\n",
    "#print keyword2column(tt,('MJD','START'))\n",
    "#print keyword2column(tt,'OBJECT')\n",
    "#print keyword2column(tt,'LiveTime')"
   ]
  },
  {
   "cell_type": "code",
   "execution_count": 8,
   "metadata": {
    "collapsed": false
   },
   "outputs": [],
   "source": [
    "mjd_header2table(tt)"
   ]
  },
  {
   "cell_type": "code",
   "execution_count": 9,
   "metadata": {
    "collapsed": false
   },
   "outputs": [
    {
     "data": {
      "text/html": [
       "&lt;Table length=15&gt;\n",
       "<table id=\"table140371602055824\" class=\"table-striped table-bordered table-condensed\">\n",
       "<thead><tr><th>e_ref</th><th>dnde</th><th>dnde_errn</th><th>dnde_errp</th><th>epoch_ini</th><th>epoch_end</th></tr></thead>\n",
       "<thead><tr><th>TeV</th><th>ph / (m2 s TeV)</th><th>ph / (m2 s TeV)</th><th>ph / (m2 s TeV)</th><th>d</th><th>d</th></tr></thead>\n",
       "<thead><tr><th>float64</th><th>float64</th><th>float64</th><th>float64</th><th>float64</th><th>float64</th></tr></thead>\n",
       "<tr><td>0.275</td><td>1.702e-05</td><td>3.295e-06</td><td>3.295e-06</td><td>54502.46971</td><td>54622.18955</td></tr>\n",
       "<tr><td>0.34</td><td>1.289e-05</td><td>1.106e-06</td><td>1.106e-06</td><td>54502.46971</td><td>54622.18955</td></tr>\n",
       "<tr><td>0.42</td><td>8.821e-06</td><td>6.072e-07</td><td>6.072e-07</td><td>54502.46971</td><td>54622.18955</td></tr>\n",
       "<tr><td>0.519</td><td>5.777e-06</td><td>3.697e-07</td><td>3.697e-07</td><td>54502.46971</td><td>54622.18955</td></tr>\n",
       "<tr><td>0.642</td><td>3.509e-06</td><td>2.351e-07</td><td>2.351e-07</td><td>54502.46971</td><td>54622.18955</td></tr>\n",
       "<tr><td>0.793</td><td>2.151e-06</td><td>1.525e-07</td><td>1.525e-07</td><td>54502.46971</td><td>54622.18955</td></tr>\n",
       "<tr><td>0.98</td><td>1.302e-06</td><td>1.024e-07</td><td>1.024e-07</td><td>54502.46971</td><td>54622.18955</td></tr>\n",
       "<tr><td>1.212</td><td>6.273e-07</td><td>6.117e-08</td><td>6.117e-08</td><td>54502.46971</td><td>54622.18955</td></tr>\n",
       "<tr><td>1.498</td><td>3.31e-07</td><td>3.853e-08</td><td>3.853e-08</td><td>54502.46971</td><td>54622.18955</td></tr>\n",
       "<tr><td>1.851</td><td>1.661e-07</td><td>2.401e-08</td><td>2.401e-08</td><td>54502.46971</td><td>54622.18955</td></tr>\n",
       "<tr><td>2.288</td><td>1.124e-07</td><td>1.732e-08</td><td>1.732e-08</td><td>54502.46971</td><td>54622.18955</td></tr>\n",
       "<tr><td>2.828</td><td>6.158e-08</td><td>1.138e-08</td><td>1.138e-08</td><td>54502.46971</td><td>54622.18955</td></tr>\n",
       "<tr><td>3.496</td><td>3.347e-08</td><td>7.427e-09</td><td>7.427e-09</td><td>54502.46971</td><td>54622.18955</td></tr>\n",
       "<tr><td>4.321</td><td>1.16e-08</td><td>4.031e-09</td><td>4.031e-09</td><td>54502.46971</td><td>54622.18955</td></tr>\n",
       "<tr><td>5.342</td><td>5.23e-09</td><td>2.371e-09</td><td>2.371e-09</td><td>54502.46971</td><td>54622.18955</td></tr>\n",
       "</table>"
      ],
      "text/plain": [
       "<Table length=15>\n",
       " e_ref        dnde         dnde_errn       dnde_errp     epoch_ini   epoch_end \n",
       "  TeV   ph / (m2 s TeV) ph / (m2 s TeV) ph / (m2 s TeV)      d           d     \n",
       "float64     float64         float64         float64       float64     float64  \n",
       "------- --------------- --------------- --------------- ----------- -----------\n",
       "  0.275       1.702e-05       3.295e-06       3.295e-06 54502.46971 54622.18955\n",
       "   0.34       1.289e-05       1.106e-06       1.106e-06 54502.46971 54622.18955\n",
       "   0.42       8.821e-06       6.072e-07       6.072e-07 54502.46971 54622.18955\n",
       "  0.519       5.777e-06       3.697e-07       3.697e-07 54502.46971 54622.18955\n",
       "  0.642       3.509e-06       2.351e-07       2.351e-07 54502.46971 54622.18955\n",
       "  0.793       2.151e-06       1.525e-07       1.525e-07 54502.46971 54622.18955\n",
       "   0.98       1.302e-06       1.024e-07       1.024e-07 54502.46971 54622.18955\n",
       "  1.212       6.273e-07       6.117e-08       6.117e-08 54502.46971 54622.18955\n",
       "  1.498        3.31e-07       3.853e-08       3.853e-08 54502.46971 54622.18955\n",
       "  1.851       1.661e-07       2.401e-08       2.401e-08 54502.46971 54622.18955\n",
       "  2.288       1.124e-07       1.732e-08       1.732e-08 54502.46971 54622.18955\n",
       "  2.828       6.158e-08       1.138e-08       1.138e-08 54502.46971 54622.18955\n",
       "  3.496       3.347e-08       7.427e-09       7.427e-09 54502.46971 54622.18955\n",
       "  4.321        1.16e-08       4.031e-09       4.031e-09 54502.46971 54622.18955\n",
       "  5.342        5.23e-09       2.371e-09       2.371e-09 54502.46971 54622.18955"
      ]
     },
     "execution_count": 9,
     "metadata": {},
     "output_type": "execute_result"
    }
   ],
   "source": [
    "tt"
   ]
  },
  {
   "cell_type": "markdown",
   "metadata": {},
   "source": [
    "## Get Object position (RA,Dec)\n",
    "\n",
    "We want now to get the object's Right Ascension and Declination. Astropy can greatly help us here ;)"
   ]
  },
  {
   "cell_type": "code",
   "execution_count": 10,
   "metadata": {
    "collapsed": true
   },
   "outputs": [],
   "source": [
    "def resolve_name(name):\n",
    "    from astropy.coordinates import get_icrs_coordinates as get_coords\n",
    "    try:\n",
    "        icrs = get_coords(name)\n",
    "        pos = (icrs.ra.value,icrs.dec.value)\n",
    "    except:\n",
    "        pos = None\n",
    "    return pos\n",
    "\n",
    "def add_radec2header(table):\n",
    "    assert table.meta.has_key('OBJECT')\n",
    "    pos = resolve_name(table.meta['OBJECT'])\n",
    "    table.meta['RA'] = pos[0]\n",
    "    table.meta['DEC'] = pos[1]\n",
    "    \n",
    "add_radec2header(tt)"
   ]
  },
  {
   "cell_type": "code",
   "execution_count": 11,
   "metadata": {
    "collapsed": false
   },
   "outputs": [
    {
     "name": "stdout",
     "output_type": "stream",
     "text": [
      "{\n",
      "    \"OBJECT\": \"Mrk 421\", \n",
      "    \"DESCRIBE\": \"Spectral points for multiwavelength campaign; Observations taken between 2008 January 01 and 2008 June 05; Flux sensitivity 0.8e-10 < flux(E>1TeV) < 1.1e-10\", \n",
      "    \"MJD\": {\n",
      "        \"START\": 54502.46971, \n",
      "        \"END\": 54622.18955\n",
      "    }, \n",
      "    \"ARTICLE\": {\n",
      "        \"url\": \"http://iopscience.iop.org/0004-637X/738/1/25/\", \n",
      "        \"arxiv\": \"http://arxiv.org/abs/1106.1210\", \n",
      "        \"ads\": \"http://adsabs.harvard.edu/abs/2011ApJ...738...25A\", \n",
      "        \"label\": \"Ap.J. 738, 25 (2011)\"\n",
      "    }, \n",
      "    \"COMMENTS\": {\n",
      "        \"LiveTime\": 1.4, \n",
      "        \"Redshift\": 0.031, \n",
      "        \"Tag\": \"highA\", \n",
      "        \"Name\": \"Mrk421_2008_highA\", \n",
      "        \"Significance\": 73.0\n",
      "    }, \n",
      "    \"SED_TYPE\": \"diff_flux_points\", \n",
      "    \"RA\": 166.1138079, \n",
      "    \"DEC\": 38.2088331\n",
      "}\n",
      "e_ref       dnde         dnde_errn       dnde_errp     epoch_ini   epoch_end \n",
      " TeV  ph / (m2 s TeV) ph / (m2 s TeV) ph / (m2 s TeV)      d           d     \n",
      "----- --------------- --------------- --------------- ----------- -----------\n",
      "0.275       1.702e-05       3.295e-06       3.295e-06 54502.46971 54622.18955\n",
      " 0.34       1.289e-05       1.106e-06       1.106e-06 54502.46971 54622.18955\n",
      " 0.42       8.821e-06       6.072e-07       6.072e-07 54502.46971 54622.18955\n",
      "0.519       5.777e-06       3.697e-07       3.697e-07 54502.46971 54622.18955\n",
      "0.642       3.509e-06       2.351e-07       2.351e-07 54502.46971 54622.18955\n",
      "0.793       2.151e-06       1.525e-07       1.525e-07 54502.46971 54622.18955\n",
      " 0.98       1.302e-06       1.024e-07       1.024e-07 54502.46971 54622.18955\n",
      "1.212       6.273e-07       6.117e-08       6.117e-08 54502.46971 54622.18955\n",
      "1.498        3.31e-07       3.853e-08       3.853e-08 54502.46971 54622.18955\n",
      "1.851       1.661e-07       2.401e-08       2.401e-08 54502.46971 54622.18955\n",
      "2.288       1.124e-07       1.732e-08       1.732e-08 54502.46971 54622.18955\n",
      "2.828       6.158e-08       1.138e-08       1.138e-08 54502.46971 54622.18955\n",
      "3.496       3.347e-08       7.427e-09       7.427e-09 54502.46971 54622.18955\n",
      "4.321        1.16e-08       4.031e-09       4.031e-09 54502.46971 54622.18955\n",
      "5.342        5.23e-09       2.371e-09       2.371e-09 54502.46971 54622.18955\n"
     ]
    }
   ],
   "source": [
    "print_table(tt)"
   ]
  },
  {
   "cell_type": "markdown",
   "metadata": {},
   "source": [
    "## Working out the header\n",
    "\n",
    "To handle long and nested keywords we will have to apply some kind of word-shortening & flattening algorithms.\n",
    "\n",
    "First, notice that the only nested (or container) structure that handle us issues are *dictionaries*, but not *lists* for instance. \n",
    "Since *dictionaries* keep the (useful) information at their leaves, to flatten such structure is \"as simple as\" working out the *keys* that bring to the (useful) information.\n",
    "\n",
    "For instance, let us take the \"`MJD`\" structure in our original header:\n",
    "```\n",
    "MJD\n",
    "  - INI : 54502.46971\n",
    "  - END : 54622.18955\n",
    "```\n",
    "We can flatten such structure by merging the *keys*:\n",
    "```\n",
    "MJDINI = 54502.46971\n",
    "MJDEND = 54622.18955\n",
    "```\n",
    "To keep the transition, from the original file (ECSV) to the FITS, as clear as possible, we can even add those translations somehow in the header; It seems to be a symbol (e.g, \"`:`\") can be used where keys were concatenated and use it as the `keyword` for the new keyword as `value`:\n",
    "```\n",
    "SUBS_MJDINI = MJD:INI\n",
    "```\n",
    "\n",
    "The second aspect we have to deal with are the long keywords, keywords longer than 8 chars.\n",
    "I propose to solve this one adopting the result of one of the following two-step process:\n",
    "```\n",
    "if length( KEYWORD ) is greater than 8:\n",
    "    NEW_KEYWORD = remove_vowels_from( KEYWORD )\n",
    "if length( NEW_KEYWORD ) is greater than 8:\n",
    "    NEW_KEYWORD = KEYWORD[:8]\n",
    "```\n",
    "Again, we can add such translation to table's meta information.\n",
    "Let's take as an example the keyword `DESCRIPTION`.\n",
    "`DESCRIPTION` has more than 8 characters (11, actually); we solve that by removing its vowels:\n",
    "```\n",
    "DSCRPTN=\"Spectral points for multiwavelength campaign; Observations taken between 2008 January 01 and 2008 June 05; Flux sensitivity 0.8e-10 < flux(E>1TeV) < 1.1e-10\"\n",
    "SUBS_DSCRPTN=DESCRIPTION\n",
    "```"
   ]
  },
  {
   "cell_type": "code",
   "execution_count": 12,
   "metadata": {
    "collapsed": false
   },
   "outputs": [],
   "source": [
    "def flatten_header(table):\n",
    "    separator = '-'\n",
    "    def flatten_dict(key,value_dict):\n",
    "        outish = []\n",
    "        for k,v in value_dict.iteritems():\n",
    "            if isinstance(v,dict):\n",
    "                flat = flatten_dict(k,v)\n",
    "                for kp,vp in flat:\n",
    "                    kn = separator.join([ str(k), kp ])\n",
    "                    outish.append((kn,vp))\n",
    "            else:\n",
    "                outish.append((k,v))\n",
    "        return [ (separator.join([ str(key), k]),v) for k,v in outish ]\n",
    "    for k,v in table.meta.iteritems():\n",
    "        if isinstance(v,dict):\n",
    "            flat = flatten_dict(k,v)\n",
    "            for kn,vn in flat:\n",
    "                table.meta[kn] = vn\n",
    "                try:\n",
    "                    del table.meta[k]\n",
    "                except:\n",
    "                    pass\n",
    "    return table.meta\n",
    "\n",
    "_ = flatten_header(tt)"
   ]
  },
  {
   "cell_type": "code",
   "execution_count": 13,
   "metadata": {
    "collapsed": false
   },
   "outputs": [
    {
     "data": {
      "text/plain": [
       "OrderedDict([('OBJECT', 'Mrk 421'),\n",
       "             ('DESCRIBE',\n",
       "              'Spectral points for multiwavelength campaign; Observations taken between 2008 January 01 and 2008 June 05; Flux sensitivity 0.8e-10 < flux(E>1TeV) < 1.1e-10'),\n",
       "             ('SED_TYPE', 'diff_flux_points'),\n",
       "             ('RA', 166.1138079),\n",
       "             ('DEC', 38.2088331),\n",
       "             ('MJD-START', 54502.46971),\n",
       "             ('MJD-END', 54622.18955),\n",
       "             ('ARTICLE-url', 'http://iopscience.iop.org/0004-637X/738/1/25/'),\n",
       "             ('ARTICLE-arxiv', 'http://arxiv.org/abs/1106.1210'),\n",
       "             ('ARTICLE-ads',\n",
       "              'http://adsabs.harvard.edu/abs/2011ApJ...738...25A'),\n",
       "             ('ARTICLE-label', 'Ap.J. 738, 25 (2011)'),\n",
       "             ('COMMENTS-LiveTime', 1.4),\n",
       "             ('COMMENTS-Redshift', 0.031),\n",
       "             ('COMMENTS-Tag', 'highA'),\n",
       "             ('COMMENTS-Name', 'Mrk421_2008_highA'),\n",
       "             ('COMMENTS-Significance', 73.0)])"
      ]
     },
     "execution_count": 13,
     "metadata": {},
     "output_type": "execute_result"
    }
   ],
   "source": [
    "tt.meta"
   ]
  },
  {
   "cell_type": "code",
   "execution_count": 14,
   "metadata": {
    "collapsed": false
   },
   "outputs": [],
   "source": [
    "def shorten_header_keywords(table):\n",
    "    def shorten_word(word):\n",
    "        new_word = ''.join( filter(lambda c:c.lower() not in 'aeiou', word) )\n",
    "        if len(new_word) > 8:\n",
    "            new_word = new_word[:8]\n",
    "        return new_word\n",
    "    to_remove = []\n",
    "    to_add = []\n",
    "    for k,v in table.meta.iteritems():\n",
    "        if len(k) > 8:\n",
    "            assert isinstance(k,(str,unicode))\n",
    "            new_k = shorten_word(k)\n",
    "            to_add.append((new_k,v))\n",
    "            to_remove.append(k)\n",
    "            to_add.append(('SUBS_'+new_k,k))\n",
    "    for new_k,v in to_add:\n",
    "        table.meta[new_k] = v\n",
    "    for old_k in to_remove:\n",
    "        del table.meta[old_k]\n",
    "    return table.meta\n",
    "\n",
    "#_ = shorten_header_keywords(tt)\n",
    "#tt.meta"
   ]
  },
  {
   "cell_type": "code",
   "execution_count": 15,
   "metadata": {
    "collapsed": false
   },
   "outputs": [
    {
     "name": "stderr",
     "output_type": "stream",
     "text": [
      "WARNING: VerifyWarning: Keyword name 'MJD-START' is greater than 8 characters or contains characters not allowed by the FITS standard; a HIERARCH card will be created. [astropy.io.fits.card]\n",
      "WARNING:astropy:VerifyWarning: Keyword name 'MJD-START' is greater than 8 characters or contains characters not allowed by the FITS standard; a HIERARCH card will be created.\n",
      "WARNING: VerifyWarning: Keyword name 'ARTICLE-url' is greater than 8 characters or contains characters not allowed by the FITS standard; a HIERARCH card will be created. [astropy.io.fits.card]\n",
      "WARNING:astropy:VerifyWarning: Keyword name 'ARTICLE-url' is greater than 8 characters or contains characters not allowed by the FITS standard; a HIERARCH card will be created.\n",
      "WARNING: VerifyWarning: Keyword name 'ARTICLE-arxiv' is greater than 8 characters or contains characters not allowed by the FITS standard; a HIERARCH card will be created. [astropy.io.fits.card]\n",
      "WARNING:astropy:VerifyWarning: Keyword name 'ARTICLE-arxiv' is greater than 8 characters or contains characters not allowed by the FITS standard; a HIERARCH card will be created.\n",
      "WARNING: VerifyWarning: Keyword name 'ARTICLE-ads' is greater than 8 characters or contains characters not allowed by the FITS standard; a HIERARCH card will be created. [astropy.io.fits.card]\n",
      "WARNING:astropy:VerifyWarning: Keyword name 'ARTICLE-ads' is greater than 8 characters or contains characters not allowed by the FITS standard; a HIERARCH card will be created.\n",
      "WARNING: VerifyWarning: Keyword name 'ARTICLE-label' is greater than 8 characters or contains characters not allowed by the FITS standard; a HIERARCH card will be created. [astropy.io.fits.card]\n",
      "WARNING:astropy:VerifyWarning: Keyword name 'ARTICLE-label' is greater than 8 characters or contains characters not allowed by the FITS standard; a HIERARCH card will be created.\n",
      "WARNING: VerifyWarning: Keyword name 'COMMENTS-LiveTime' is greater than 8 characters or contains characters not allowed by the FITS standard; a HIERARCH card will be created. [astropy.io.fits.card]\n",
      "WARNING:astropy:VerifyWarning: Keyword name 'COMMENTS-LiveTime' is greater than 8 characters or contains characters not allowed by the FITS standard; a HIERARCH card will be created.\n",
      "WARNING: VerifyWarning: Keyword name 'COMMENTS-Redshift' is greater than 8 characters or contains characters not allowed by the FITS standard; a HIERARCH card will be created. [astropy.io.fits.card]\n",
      "WARNING:astropy:VerifyWarning: Keyword name 'COMMENTS-Redshift' is greater than 8 characters or contains characters not allowed by the FITS standard; a HIERARCH card will be created.\n",
      "WARNING: VerifyWarning: Keyword name 'COMMENTS-Tag' is greater than 8 characters or contains characters not allowed by the FITS standard; a HIERARCH card will be created. [astropy.io.fits.card]\n",
      "WARNING:astropy:VerifyWarning: Keyword name 'COMMENTS-Tag' is greater than 8 characters or contains characters not allowed by the FITS standard; a HIERARCH card will be created.\n",
      "WARNING: VerifyWarning: Keyword name 'COMMENTS-Name' is greater than 8 characters or contains characters not allowed by the FITS standard; a HIERARCH card will be created. [astropy.io.fits.card]\n",
      "WARNING:astropy:VerifyWarning: Keyword name 'COMMENTS-Name' is greater than 8 characters or contains characters not allowed by the FITS standard; a HIERARCH card will be created.\n",
      "WARNING: VerifyWarning: Keyword name 'COMMENTS-Significance' is greater than 8 characters or contains characters not allowed by the FITS standard; a HIERARCH card will be created. [astropy.io.fits.card]\n",
      "WARNING:astropy:VerifyWarning: Keyword name 'COMMENTS-Significance' is greater than 8 characters or contains characters not allowed by the FITS standard; a HIERARCH card will be created.\n"
     ]
    }
   ],
   "source": [
    "import os\n",
    "fileout = filein.namebase + '.fits'\n",
    "tt.write(fileout, format='fits', overwrite=True)"
   ]
  },
  {
   "cell_type": "markdown",
   "metadata": {},
   "source": [
    "Clearly that is not the most beautiful solution, but we now can write freely to a FITS file."
   ]
  },
  {
   "cell_type": "code",
   "execution_count": 16,
   "metadata": {
    "collapsed": false
   },
   "outputs": [
    {
     "name": "stdout",
     "output_type": "stream",
     "text": [
      "{\n",
      "    \"OBJECT\": \"Mrk 421\", \n",
      "    \"DESCRIBE\": \"Spectral points for multiwavelength campaign; Observations taken between 2008 January 01 and 2008 June 05; Flux sensitivity 0.8e-10 < flux(E>1TeV) < 1.1e-10\", \n",
      "    \"SED_TYPE\": \"diff_flux_points\", \n",
      "    \"RA\": 166.1138079, \n",
      "    \"DEC\": 38.2088331, \n",
      "    \"MJD-START\": 54502.46971, \n",
      "    \"MJD-END\": 54622.18955, \n",
      "    \"ARTICLE-url\": \"http://iopscience.iop.org/0004-637X/738/1/25/\", \n",
      "    \"ARTICLE-arxiv\": \"http://arxiv.org/abs/1106.1210\", \n",
      "    \"ARTICLE-ads\": \"http://adsabs.harvard.edu/abs/2011ApJ...738...25A\", \n",
      "    \"ARTICLE-label\": \"Ap.J. 738, 25 (2011)\", \n",
      "    \"COMMENTS-LiveTime\": 1.4, \n",
      "    \"COMMENTS-Redshift\": 0.031, \n",
      "    \"COMMENTS-Tag\": \"highA\", \n",
      "    \"COMMENTS-Name\": \"Mrk421_2008_highA\", \n",
      "    \"COMMENTS-Significance\": 73.0\n",
      "}\n",
      "e_ref       dnde         dnde_errn       dnde_errp     epoch_ini   epoch_end \n",
      " TeV  ph / (m2 s TeV) ph / (m2 s TeV) ph / (m2 s TeV)      d           d     \n",
      "----- --------------- --------------- --------------- ----------- -----------\n",
      "0.275       1.702e-05       3.295e-06       3.295e-06 54502.46971 54622.18955\n",
      " 0.34       1.289e-05       1.106e-06       1.106e-06 54502.46971 54622.18955\n",
      " 0.42       8.821e-06       6.072e-07       6.072e-07 54502.46971 54622.18955\n",
      "0.519       5.777e-06       3.697e-07       3.697e-07 54502.46971 54622.18955\n",
      "0.642       3.509e-06       2.351e-07       2.351e-07 54502.46971 54622.18955\n",
      "0.793       2.151e-06       1.525e-07       1.525e-07 54502.46971 54622.18955\n",
      " 0.98       1.302e-06       1.024e-07       1.024e-07 54502.46971 54622.18955\n",
      "1.212       6.273e-07       6.117e-08       6.117e-08 54502.46971 54622.18955\n",
      "1.498        3.31e-07       3.853e-08       3.853e-08 54502.46971 54622.18955\n",
      "1.851       1.661e-07       2.401e-08       2.401e-08 54502.46971 54622.18955\n",
      "2.288       1.124e-07       1.732e-08       1.732e-08 54502.46971 54622.18955\n",
      "2.828       6.158e-08       1.138e-08       1.138e-08 54502.46971 54622.18955\n",
      "3.496       3.347e-08       7.427e-09       7.427e-09 54502.46971 54622.18955\n",
      "4.321        1.16e-08       4.031e-09       4.031e-09 54502.46971 54622.18955\n",
      "5.342        5.23e-09       2.371e-09       2.371e-09 54502.46971 54622.18955\n"
     ]
    }
   ],
   "source": [
    "t_ = Table.read(fileout, format='fits')\n",
    "print_table(t_)"
   ]
  },
  {
   "cell_type": "code",
   "execution_count": 17,
   "metadata": {
    "collapsed": false
   },
   "outputs": [
    {
     "name": "stdout",
     "output_type": "stream",
     "text": [
      "[1] handling_mkn421.ipynb\r\n",
      "[2] handling_mkn421-Adding interaction to plots.ipynb\r\n",
      "[3] handling_mkn421-Transforming_to_FITS.ipynb\r\n",
      "handling_mkn421-Structuring the plot.ipynb\r\n",
      "Mkn421_VERITAS_2008_highA.fits\r\n"
     ]
    }
   ],
   "source": [
    "!ls"
   ]
  },
  {
   "cell_type": "markdown",
   "metadata": {},
   "source": [
    "## From CSV to FITS"
   ]
  },
  {
   "cell_type": "code",
   "execution_count": 21,
   "metadata": {
    "collapsed": false
   },
   "outputs": [
    {
     "name": "stdout",
     "output_type": "stream",
     "text": [
      "--------------------------------------------------------------------------------\n",
      "{\n",
      "    \"OBJECT\": \"Mrk 421\", \n",
      "    \"DESCRIBE\": \"Spectral points for multiwavelength campaign; Observations taken between 2008 January 01 and 2008 June 05; Flux sensitivity 4.88e-11 < flux(E>1TeV) < 0.8e-10\", \n",
      "    \"SED_TYPE\": \"diff_flux_points\", \n",
      "    \"RA\": 166.1138079, \n",
      "    \"DEC\": 38.2088331, \n",
      "    \"MJD-START\": 54478.40461, \n",
      "    \"MJD-END\": 54613.21471, \n",
      "    \"ARTICLE-url\": \"http://iopscience.iop.org/0004-637X/738/1/25/\", \n",
      "    \"ARTICLE-arxiv\": \"http://arxiv.org/abs/1106.1210\", \n",
      "    \"ARTICLE-ads\": \"http://adsabs.harvard.edu/abs/2011ApJ...738...25A\", \n",
      "    \"ARTICLE-label\": \"Ap.J. 738, 25 (2011)\", \n",
      "    \"COMMENTS-LiveTime\": 7.8, \n",
      "    \"COMMENTS-Redshift\": 0.031, \n",
      "    \"COMMENTS-Tag\": \"mid\", \n",
      "    \"COMMENTS-Name\": \"Mrk421_2008_mid\", \n",
      "    \"COMMENTS-Significance\": 160.6\n",
      "}\n",
      "e_ref        dnde         dnde_errn       dnde_errp     epoch_ini   epoch_end \n",
      " TeV   ph / (m2 s TeV) ph / (m2 s TeV) ph / (m2 s TeV)      d           d     \n",
      "------ --------------- --------------- --------------- ----------- -----------\n",
      " 0.275       1.758e-05       5.721e-07       5.721e-07 54478.40461 54613.21471\n",
      "  0.34       1.096e-05       3.148e-07       3.148e-07 54478.40461 54613.21471\n",
      "  0.42       7.052e-06       2.092e-07       2.092e-07 54478.40461 54613.21471\n",
      " 0.519       4.245e-06        1.33e-07        1.33e-07 54478.40461 54613.21471\n",
      " 0.642       2.432e-06       8.439e-08       8.439e-08 54478.40461 54613.21471\n",
      " 0.793       1.403e-06       5.487e-08       5.487e-08 54478.40461 54613.21471\n",
      "  0.98       8.388e-07       3.642e-08       3.642e-08 54478.40461 54613.21471\n",
      " 1.212       4.951e-07       2.439e-08       2.439e-08 54478.40461 54613.21471\n",
      " 1.498       2.651e-07       1.574e-08       1.574e-08 54478.40461 54613.21471\n",
      " 1.851       1.747e-07       1.129e-08       1.129e-08 54478.40461 54613.21471\n",
      " 2.288       1.019e-07         7.6e-09         7.6e-09 54478.40461 54613.21471\n",
      " 2.828       5.429e-08       4.948e-09       4.948e-09 54478.40461 54613.21471\n",
      " 3.496       2.392e-08       2.927e-09       2.927e-09 54478.40461 54613.21471\n",
      " 4.321       1.251e-08       1.942e-09       1.942e-09 54478.40461 54613.21471\n",
      " 5.342       6.626e-09       1.283e-09       1.283e-09 54478.40461 54613.21471\n",
      " 6.603       2.964e-09        7.48e-10        7.48e-10 54478.40461 54613.21471\n",
      " 8.161       1.317e-09       4.729e-10       4.729e-10 54478.40461 54613.21471\n",
      "10.088       8.879e-10       3.476e-10       3.476e-10 54478.40461 54613.21471\n",
      "--------------------------------------------------------------------------------\n",
      "--------------------------------------------------------------------------------\n",
      "{\n",
      "    \"OBJECT\": \"Mrk 421\", \n",
      "    \"DESCRIBE\": \"Spectral points for multiwavelength campaign; Observations taken between 2008 January 01 and 2008 June 05; Flux sensitivity 2.5e-11 < flux(E>1TeV) < 4.88e-11\", \n",
      "    \"SED_TYPE\": \"diff_flux_points\", \n",
      "    \"RA\": 166.1138079, \n",
      "    \"DEC\": 38.2088331, \n",
      "    \"MJD-START\": 54466.39067, \n",
      "    \"MJD-END\": 54618.20065, \n",
      "    \"ARTICLE-url\": \"http://iopscience.iop.org/0004-637X/738/1/25/\", \n",
      "    \"ARTICLE-arxiv\": \"http://arxiv.org/abs/1106.1210\", \n",
      "    \"ARTICLE-ads\": \"http://adsabs.harvard.edu/abs/2011ApJ...738...25A\", \n",
      "    \"ARTICLE-label\": \"Ap.J. 738, 25 (2011)\", \n",
      "    \"COMMENTS-LiveTime\": 16.3, \n",
      "    \"COMMENTS-Redshift\": 0.031, \n",
      "    \"COMMENTS-Tag\": \"low\", \n",
      "    \"COMMENTS-Name\": \"Mrk421_2008_low\", \n",
      "    \"COMMENTS-Significance\": 181.3\n",
      "}\n",
      "e_ref        dnde         dnde_errn       dnde_errp     epoch_ini   epoch_end \n",
      " TeV   ph / (m2 s TeV) ph / (m2 s TeV) ph / (m2 s TeV)      d           d     \n",
      "------ --------------- --------------- --------------- ----------- -----------\n",
      " 0.275       1.274e-05       3.546e-07       3.546e-07 54466.39067 54618.20065\n",
      "  0.34       7.879e-06       1.914e-07       1.914e-07 54466.39067 54618.20065\n",
      "  0.42       4.993e-06       1.248e-07       1.248e-07 54466.39067 54618.20065\n",
      " 0.519       2.928e-06       7.812e-08       7.812e-08 54466.39067 54618.20065\n",
      " 0.642       1.722e-06       5.013e-08       5.013e-08 54466.39067 54618.20065\n",
      " 0.793       9.699e-07       3.137e-08       3.137e-08 54466.39067 54618.20065\n",
      "  0.98       5.666e-07       2.056e-08       2.056e-08 54466.39067 54618.20065\n",
      " 1.212       3.113e-07       1.324e-08       1.324e-08 54466.39067 54618.20065\n",
      " 1.498        1.75e-07       8.836e-09       8.836e-09 54466.39067 54618.20065\n",
      " 1.851       9.678e-08       5.793e-09       5.793e-09 54466.39067 54618.20065\n",
      " 2.288       5.719e-08       3.826e-09       3.826e-09 54466.39067 54618.20065\n",
      " 2.828       2.632e-08       2.334e-09       2.334e-09 54466.39067 54618.20065\n",
      " 3.496       1.535e-08       1.618e-09       1.618e-09 54466.39067 54618.20065\n",
      " 4.321       5.786e-09        9.18e-10        9.18e-10 54466.39067 54618.20065\n",
      " 5.342       1.774e-09       4.678e-10       4.678e-10 54466.39067 54618.20065\n",
      " 7.341       1.051e-09       2.159e-10       2.159e-10 54466.39067 54618.20065\n",
      "11.215       1.551e-10       6.945e-11       6.945e-11 54466.39067 54618.20065\n",
      "--------------------------------------------------------------------------------\n",
      "--------------------------------------------------------------------------------\n",
      "{\n",
      "    \"OBJECT\": \"Mrk 421\", \n",
      "    \"DESCRIBE\": \"Spectral points for multiwavelength campaign; Observations taken between 2008 January 01 and 2008 June 05; Flux sensitivity 0.8e-10 < flux(E>1TeV) < 1.1e-10\", \n",
      "    \"SED_TYPE\": \"diff_flux_points\", \n",
      "    \"RA\": 166.1138079, \n",
      "    \"DEC\": 38.2088331, \n",
      "    \"MJD-START\": 54502.46971, \n",
      "    \"MJD-END\": 54622.18955, \n",
      "    \"ARTICLE-url\": \"http://iopscience.iop.org/0004-637X/738/1/25/\", \n",
      "    \"ARTICLE-arxiv\": \"http://arxiv.org/abs/1106.1210\", \n",
      "    \"ARTICLE-ads\": \"http://adsabs.harvard.edu/abs/2011ApJ...738...25A\", \n",
      "    \"ARTICLE-label\": \"Ap.J. 738, 25 (2011)\", \n",
      "    \"COMMENTS-LiveTime\": 1.4, \n",
      "    \"COMMENTS-Redshift\": 0.031, \n",
      "    \"COMMENTS-Tag\": \"highA\", \n",
      "    \"COMMENTS-Name\": \"Mrk421_2008_highA\", \n",
      "    \"COMMENTS-Significance\": 73.0\n",
      "}\n",
      "e_ref       dnde         dnde_errn       dnde_errp     epoch_ini   epoch_end \n",
      " TeV  ph / (m2 s TeV) ph / (m2 s TeV) ph / (m2 s TeV)      d           d     \n",
      "----- --------------- --------------- --------------- ----------- -----------\n",
      "0.275       1.702e-05       3.295e-06       3.295e-06 54502.46971 54622.18955\n",
      " 0.34       1.289e-05       1.106e-06       1.106e-06 54502.46971 54622.18955\n",
      " 0.42       8.821e-06       6.072e-07       6.072e-07 54502.46971 54622.18955\n",
      "0.519       5.777e-06       3.697e-07       3.697e-07 54502.46971 54622.18955\n",
      "0.642       3.509e-06       2.351e-07       2.351e-07 54502.46971 54622.18955\n",
      "0.793       2.151e-06       1.525e-07       1.525e-07 54502.46971 54622.18955\n",
      " 0.98       1.302e-06       1.024e-07       1.024e-07 54502.46971 54622.18955\n",
      "1.212       6.273e-07       6.117e-08       6.117e-08 54502.46971 54622.18955\n",
      "1.498        3.31e-07       3.853e-08       3.853e-08 54502.46971 54622.18955\n",
      "1.851       1.661e-07       2.401e-08       2.401e-08 54502.46971 54622.18955\n",
      "2.288       1.124e-07       1.732e-08       1.732e-08 54502.46971 54622.18955\n",
      "2.828       6.158e-08       1.138e-08       1.138e-08 54502.46971 54622.18955\n",
      "3.496       3.347e-08       7.427e-09       7.427e-09 54502.46971 54622.18955\n",
      "4.321        1.16e-08       4.031e-09       4.031e-09 54502.46971 54622.18955\n",
      "5.342        5.23e-09       2.371e-09       2.371e-09 54502.46971 54622.18955\n",
      "--------------------------------------------------------------------------------\n",
      "--------------------------------------------------------------------------------\n",
      "{\n",
      "    \"OBJECT\": \"Mrk 421\", \n",
      "    \"DESCRIBE\": \"Spectral points for multiwavelength campaign; Observations taken between 2008 January 01 and 2008 June 05; Flux sensitivity flux(E>1TeV) < 2.5e-11\", \n",
      "    \"SED_TYPE\": \"diff_flux_points\", \n",
      "    \"RA\": 166.1138079, \n",
      "    \"DEC\": 38.2088331, \n",
      "    \"MJD-START\": 54474.36713, \n",
      "    \"MJD-END\": 54620.17623, \n",
      "    \"ARTICLE-url\": \"http://iopscience.iop.org/0004-637X/738/1/25/\", \n",
      "    \"ARTICLE-arxiv\": \"http://arxiv.org/abs/1106.1210\", \n",
      "    \"ARTICLE-ads\": \"http://adsabs.harvard.edu/abs/2011ApJ...738...25A\", \n",
      "    \"ARTICLE-label\": \"Ap.J. 738, 25 (2011)\", \n",
      "    \"COMMENTS-LiveTime\": 7.8, \n",
      "    \"COMMENTS-Redshift\": 0.031, \n",
      "    \"COMMENTS-Tag\": \"verylow\", \n",
      "    \"COMMENTS-Name\": \"Mrk421_2008_verylow\", \n",
      "    \"COMMENTS-Significance\": 77.6\n",
      "}\n",
      "e_ref       dnde         dnde_errn       dnde_errp     epoch_ini   epoch_end \n",
      " TeV  ph / (m2 s TeV) ph / (m2 s TeV) ph / (m2 s TeV)      d           d     \n",
      "----- --------------- --------------- --------------- ----------- -----------\n",
      "0.275       7.423e-06       4.741e-07       4.741e-07 54474.36713 54620.17623\n",
      " 0.34       4.314e-06       2.484e-07       2.484e-07 54474.36713 54620.17623\n",
      " 0.42       2.649e-06       1.406e-07       1.406e-07 54474.36713 54620.17623\n",
      "0.519       1.782e-06       8.939e-08       8.939e-08 54474.36713 54620.17623\n",
      "0.642       8.658e-07       5.313e-08       5.313e-08 54474.36713 54620.17623\n",
      "0.793       5.261e-07       3.478e-08       3.478e-08 54474.36713 54620.17623\n",
      " 0.98       2.675e-07       2.091e-08       2.091e-08 54474.36713 54620.17623\n",
      "1.212       1.168e-07       1.197e-08       1.197e-08 54474.36713 54620.17623\n",
      "1.498       7.324e-08       8.345e-09       8.345e-09 54474.36713 54620.17623\n",
      "1.851        3.25e-08       4.992e-09       4.992e-09 54474.36713 54620.17623\n",
      "2.288       1.818e-08       3.266e-09       3.266e-09 54474.36713 54620.17623\n",
      "2.828       9.855e-09       2.071e-09       2.071e-09 54474.36713 54620.17623\n",
      "3.496       2.953e-09       1.111e-09       1.111e-09 54474.36713 54620.17623\n",
      "4.321       1.944e-09        7.53e-10        7.53e-10 54474.36713 54620.17623\n",
      "--------------------------------------------------------------------------------\n",
      "--------------------------------------------------------------------------------\n",
      "{\n",
      "    \"OBJECT\": \"Mrk 421\", \n",
      "    \"DESCRIBE\": \"Spectral points for multiwavelength campaign; Observations taken between 2008 January 01 and 2008 June 05; Flux sensitivity ? < flux(E>1TeV) < ?\", \n",
      "    \"SED_TYPE\": \"diff_flux_points\", \n",
      "    \"RA\": 166.1138079, \n",
      "    \"DEC\": 38.2088331, \n",
      "    \"MJD-START\": 54589.28015, \n",
      "    \"MJD-END\": 54589.3248, \n",
      "    \"ARTICLE-url\": \"http://iopscience.iop.org/0004-637X/738/1/25/\", \n",
      "    \"ARTICLE-arxiv\": \"http://arxiv.org/abs/1106.1210\", \n",
      "    \"ARTICLE-ads\": \"http://adsabs.harvard.edu/abs/2011ApJ...738...25A\", \n",
      "    \"ARTICLE-label\": \"Ap.J. 738, 25 (2011)\", \n",
      "    \"COMMENTS-LiveTime\": 0.6, \n",
      "    \"COMMENTS-Redshift\": 0.031, \n",
      "    \"COMMENTS-Tag\": \"highB\", \n",
      "    \"COMMENTS-Name\": \"Mrk421_2008_highB\", \n",
      "    \"COMMENTS-Significance\": 47.3\n",
      "}\n",
      "e_ref       dnde         dnde_errn       dnde_errp     epoch_ini  epoch_end \n",
      " TeV  ph / (m2 s TeV) ph / (m2 s TeV) ph / (m2 s TeV)      d          d     \n",
      "----- --------------- --------------- --------------- ----------- ----------\n",
      "0.701       3.871e-06       4.198e-07       4.198e-07 54589.28015 54589.3248\n",
      "0.927       2.105e-06       2.419e-07       2.419e-07 54589.28015 54589.3248\n",
      "1.225       8.366e-07       8.812e-08       8.812e-08 54589.28015 54589.3248\n",
      "1.619       5.275e-07       5.598e-08       5.598e-08 54589.28015 54589.3248\n",
      " 2.14       2.462e-07       3.131e-08       3.131e-08 54589.28015 54589.3248\n",
      "2.828       1.622e-07       2.108e-08       2.108e-08 54589.28015 54589.3248\n",
      "3.738       7.154e-08       1.155e-08       1.155e-08 54589.28015 54589.3248\n",
      " 4.94       2.212e-08       5.954e-09       5.954e-09 54589.28015 54589.3248\n",
      "6.529       4.591e-09       2.271e-09       2.271e-09 54589.28015 54589.3248\n",
      "--------------------------------------------------------------------------------\n",
      "--------------------------------------------------------------------------------\n",
      "{\n",
      "    \"OBJECT\": \"Mrk 421\", \n",
      "    \"DESCRIBE\": \"Spectral points for multiwavelength campaign; Observations taken between 2008 January 01 and 2008 June 05; Flux sensitivity 1.1e-10 < flux(E>1TeV) < 1.5e-10\", \n",
      "    \"SED_TYPE\": \"diff_flux_points\", \n",
      "    \"RA\": 166.1138079, \n",
      "    \"DEC\": 38.2088331, \n",
      "    \"MJD-START\": 54589.28015, \n",
      "    \"MJD-END\": 54589.3248, \n",
      "    \"ARTICLE-url\": \"http://iopscience.iop.org/0004-637X/738/1/25/\", \n",
      "    \"ARTICLE-arxiv\": \"http://arxiv.org/abs/1106.1210\", \n",
      "    \"ARTICLE-ads\": \"http://adsabs.harvard.edu/abs/2011ApJ...738...25A\", \n",
      "    \"ARTICLE-label\": \"Ap.J. 738, 25 (2011)\", \n",
      "    \"COMMENTS-LiveTime\": 0.6, \n",
      "    \"COMMENTS-Redshift\": 0.031, \n",
      "    \"COMMENTS-Tag\": \"highC\", \n",
      "    \"COMMENTS-Name\": \"Mrk421_2008_highC\", \n",
      "    \"COMMENTS-Significance\": 53.8\n",
      "}\n",
      "e_ref       dnde         dnde_errn       dnde_errp     epoch_ini  epoch_end \n",
      " TeV  ph / (m2 s TeV) ph / (m2 s TeV) ph / (m2 s TeV)      d          d     \n",
      "----- --------------- --------------- --------------- ----------- ----------\n",
      "0.927       2.493e-06       2.578e-07       2.578e-07 54589.28015 54589.3248\n",
      "1.225       1.122e-06       9.697e-08       9.697e-08 54589.28015 54589.3248\n",
      "1.619       5.812e-07       5.758e-08       5.758e-08 54589.28015 54589.3248\n",
      " 2.14       2.829e-07       3.299e-08       3.299e-08 54589.28015 54589.3248\n",
      "2.828       1.332e-07       1.901e-08       1.901e-08 54589.28015 54589.3248\n",
      "3.738       6.839e-08       1.158e-08       1.158e-08 54589.28015 54589.3248\n",
      " 4.94       2.745e-08       6.232e-09       6.232e-09 54589.28015 54589.3248\n",
      "6.529        1.14e-08       3.458e-09       3.458e-09 54589.28015 54589.3248\n",
      "8.629       5.176e-09        2.17e-09        2.17e-09 54589.28015 54589.3248\n",
      "--------------------------------------------------------------------------------\n",
      "--------------------------------------------------------------------------------\n",
      "{\n",
      "    \"OBJECT\": \"Mrk 421\", \n",
      "    \"DESCRIBE\": \"Spectral points for multiwavelength campaign; Observations taken between 2008 January 01 and 2008 June 05; Flux sensitivity flux(E>1TeV) > 1.5e-10\", \n",
      "    \"SED_TYPE\": \"diff_flux_points\", \n",
      "    \"RA\": 166.1138079, \n",
      "    \"DEC\": 38.2088331, \n",
      "    \"MJD-START\": 54588.29027, \n",
      "    \"MJD-END\": 54589.30958, \n",
      "    \"ARTICLE-url\": \"http://iopscience.iop.org/0004-637X/738/1/25/\", \n",
      "    \"ARTICLE-arxiv\": \"http://arxiv.org/abs/1106.1210\", \n",
      "    \"ARTICLE-ads\": \"http://adsabs.harvard.edu/abs/2011ApJ...738...25A\", \n",
      "    \"ARTICLE-label\": \"Ap.J. 738, 25 (2011)\", \n",
      "    \"COMMENTS-LiveTime\": 0.6, \n",
      "    \"COMMENTS-Redshift\": 0.031, \n",
      "    \"COMMENTS-Tag\": \"veryhigh\", \n",
      "    \"COMMENTS-Name\": \"Mrk421_2008_veryhigh\", \n",
      "    \"COMMENTS-Significance\": 53.8\n",
      "}\n",
      "e_ref       dnde         dnde_errn       dnde_errp     epoch_ini   epoch_end \n",
      " TeV  ph / (m2 s TeV) ph / (m2 s TeV) ph / (m2 s TeV)      d           d     \n",
      "----- --------------- --------------- --------------- ----------- -----------\n",
      "0.642       6.659e-06       7.092e-07       7.092e-07 54588.29027 54589.30958\n",
      "0.793        4.29e-06        4.45e-07        4.45e-07 54588.29027 54589.30958\n",
      " 0.98        2.45e-06       2.023e-07       2.023e-07 54588.29027 54589.30958\n",
      "1.212       1.708e-06       1.397e-07       1.397e-07 54588.29027 54589.30958\n",
      "1.498       9.934e-07       9.117e-08       9.117e-08 54588.29027 54589.30958\n",
      "1.851       4.907e-07       5.533e-08       5.533e-08 54588.29027 54589.30958\n",
      "2.288       3.522e-07       4.038e-08       4.038e-08 54588.29027 54589.30958\n",
      "2.828        1.82e-07       2.527e-08       2.527e-08 54588.29027 54589.30958\n",
      "3.496       9.938e-08       1.633e-08       1.633e-08 54588.29027 54589.30958\n",
      "4.321       6.131e-08       1.164e-08       1.164e-08 54588.29027 54589.30958\n",
      "5.342       2.448e-08       6.365e-09       6.365e-09 54588.29027 54589.30958\n",
      "7.341       4.454e-09       1.687e-09       1.687e-09 54588.29027 54589.30958\n",
      "--------------------------------------------------------------------------------\n"
     ]
    }
   ],
   "source": [
    "def csv2fits(csv_file):\n",
    "    from astropy.table import Table\n",
    "    from path import Path\n",
    "\n",
    "    filein = Path(csv_file)\n",
    "    dirin = filein.abspath().dirname()\n",
    "    dirout = dirin.joinpath('../pub')\n",
    "    fileout = (dirout.joinpath(filein.namebase) + '.fits').normpath()\n",
    "\n",
    "    t = Table.read(filein, format='ascii.ecsv')\n",
    "    \n",
    "    mjd_header2table(t)\n",
    "    add_radec2header(t)\n",
    "    flatten_header(t)\n",
    "    \n",
    "    t.write(fileout, format='fits', overwrite=True)\n",
    "    return t\n",
    "\n",
    "from glob import glob\n",
    "import os\n",
    "dirin = '../data/src'\n",
    "for csv_file in glob(os.path.join(dirin,'*.csv')):\n",
    "    t = csv2fits(csv_file)\n",
    "    print '-'*80\n",
    "    print_table(t)\n",
    "    print '-'*80\n"
   ]
  },
  {
   "cell_type": "code",
   "execution_count": 22,
   "metadata": {
    "collapsed": false
   },
   "outputs": [
    {
     "name": "stdout",
     "output_type": "stream",
     "text": [
      "[1] handling_mkn421.ipynb\r\n",
      "[2] handling_mkn421-Adding interaction to plots.ipynb\r\n",
      "[3] handling_mkn421-Transforming_to_FITS.ipynb\r\n",
      "handling_mkn421-Structuring the plot.ipynb\r\n",
      "Mkn421_VERITAS_2008_highA.fits\r\n"
     ]
    }
   ],
   "source": [
    "%ls"
   ]
  },
  {
   "cell_type": "code",
   "execution_count": 23,
   "metadata": {
    "collapsed": false
   },
   "outputs": [
    {
     "name": "stdout",
     "output_type": "stream",
     "text": [
      "{\n",
      "    \"OBJECT\": \"Mrk 421\", \n",
      "    \"DESCRIBE\": \"Spectral points for multiwavelength campaign; Observations taken between 2008 January 01 and 2008 June 05; Flux sensitivity 0.8e-10 < flux(E>1TeV) < 1.1e-10\", \n",
      "    \"SED_TYPE\": \"diff_flux_points\", \n",
      "    \"RA\": 166.1138079, \n",
      "    \"DEC\": 38.2088331, \n",
      "    \"MJD-START\": 54502.46971, \n",
      "    \"MJD-END\": 54622.18955, \n",
      "    \"ARTICLE-url\": \"http://iopscience.iop.org/0004-637X/738/1/25/\", \n",
      "    \"ARTICLE-arxiv\": \"http://arxiv.org/abs/1106.1210\", \n",
      "    \"ARTICLE-ads\": \"http://adsabs.harvard.edu/abs/2011ApJ...738...25A\", \n",
      "    \"ARTICLE-label\": \"Ap.J. 738, 25 (2011)\", \n",
      "    \"COMMENTS-LiveTime\": 1.4, \n",
      "    \"COMMENTS-Redshift\": 0.031, \n",
      "    \"COMMENTS-Tag\": \"highA\", \n",
      "    \"COMMENTS-Name\": \"Mrk421_2008_highA\", \n",
      "    \"COMMENTS-Significance\": 73.0\n",
      "}\n",
      "e_ref       dnde         dnde_errn       dnde_errp     epoch_ini   epoch_end \n",
      " TeV  ph / (m2 s TeV) ph / (m2 s TeV) ph / (m2 s TeV)      d           d     \n",
      "----- --------------- --------------- --------------- ----------- -----------\n",
      "0.275       1.702e-05       3.295e-06       3.295e-06 54502.46971 54622.18955\n",
      " 0.34       1.289e-05       1.106e-06       1.106e-06 54502.46971 54622.18955\n",
      " 0.42       8.821e-06       6.072e-07       6.072e-07 54502.46971 54622.18955\n",
      "0.519       5.777e-06       3.697e-07       3.697e-07 54502.46971 54622.18955\n",
      "0.642       3.509e-06       2.351e-07       2.351e-07 54502.46971 54622.18955\n",
      "0.793       2.151e-06       1.525e-07       1.525e-07 54502.46971 54622.18955\n",
      " 0.98       1.302e-06       1.024e-07       1.024e-07 54502.46971 54622.18955\n",
      "1.212       6.273e-07       6.117e-08       6.117e-08 54502.46971 54622.18955\n",
      "1.498        3.31e-07       3.853e-08       3.853e-08 54502.46971 54622.18955\n",
      "1.851       1.661e-07       2.401e-08       2.401e-08 54502.46971 54622.18955\n",
      "2.288       1.124e-07       1.732e-08       1.732e-08 54502.46971 54622.18955\n",
      "2.828       6.158e-08       1.138e-08       1.138e-08 54502.46971 54622.18955\n",
      "3.496       3.347e-08       7.427e-09       7.427e-09 54502.46971 54622.18955\n",
      "4.321        1.16e-08       4.031e-09       4.031e-09 54502.46971 54622.18955\n",
      "5.342        5.23e-09       2.371e-09       2.371e-09 54502.46971 54622.18955\n"
     ]
    }
   ],
   "source": [
    "t = Table.read(fileout)\n",
    "print_table(t)"
   ]
  },
  {
   "cell_type": "code",
   "execution_count": null,
   "metadata": {
    "collapsed": true
   },
   "outputs": [],
   "source": []
  }
 ],
 "metadata": {
  "kernelspec": {
   "display_name": "Python 2",
   "language": "python",
   "name": "python2"
  },
  "language_info": {
   "codemirror_mode": {
    "name": "ipython",
    "version": 2
   },
   "file_extension": ".py",
   "mimetype": "text/x-python",
   "name": "python",
   "nbconvert_exporter": "python",
   "pygments_lexer": "ipython2",
   "version": "2.7.11"
  }
 },
 "nbformat": 4,
 "nbformat_minor": 0
}
